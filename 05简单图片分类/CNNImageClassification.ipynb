{
 "cells": [
  {
   "cell_type": "code",
   "execution_count": 1,
   "metadata": {},
   "outputs": [],
   "source": [
    "import torch\n",
    "import torch.nn as nn\n",
    "import torch.nn.functional as F\n",
    "import torch.optim as optim\n",
    "import numpy as np\n",
    "from torch.utils.data import DataLoader\n",
    "from torchvision import datasets, transforms"
   ]
  },
  {
   "cell_type": "code",
   "execution_count": 2,
   "metadata": {},
   "outputs": [
    {
     "data": {
      "text/plain": [
       "'1.0.1'"
      ]
     },
     "execution_count": 2,
     "metadata": {},
     "output_type": "execute_result"
    }
   ],
   "source": [
    "torch.__version__"
   ]
  },
  {
   "cell_type": "markdown",
   "metadata": {},
   "source": [
    "# DataLoader"
   ]
  },
  {
   "cell_type": "code",
   "execution_count": 3,
   "metadata": {},
   "outputs": [],
   "source": [
    "# 加载数据集\n",
    "mnist_data = datasets.MNIST('./mnist_data', train=True, download=False, transform=transforms.Compose([transforms.ToTensor()]))\n",
    "# print(mnist_data)\n",
    "# print(mnist_data[0][1])  # 数字\n",
    "# print(mnist_data[1][0].shape)\n",
    "\n",
    "data = [d[0].data.cpu().numpy() for d in mnist_data]\n",
    "MEAN = np.mean(data)\n",
    "STD = np.std(data)\n",
    "DEVICE = torch.device('cuda:0' if torch.cuda.is_available() else 'cpu')\n",
    "BATCH_SIZE = 32\n",
    "LEARNINGRATE = 0.01\n",
    "MOMENTUM = 0.5\n",
    "NUM_EPOCHS = 10"
   ]
  },
  {
   "cell_type": "code",
   "execution_count": null,
   "metadata": {},
   "outputs": [],
   "source": [
    "print(MEAN, STD)"
   ]
  },
  {
   "cell_type": "code",
   "execution_count": 4,
   "metadata": {},
   "outputs": [],
   "source": [
    "train_loader = DataLoader(\n",
    "    dataset=datasets.MNIST('./mnist_data', train=True, download=False, transform=transforms.Compose([\n",
    "        transforms.ToTensor(), transforms.Normalize(mean=(MEAN,), std=(STD,))\n",
    "    ])),\n",
    "    batch_size=BATCH_SIZE, shuffle=True, num_workers=1, pin_memory=True\n",
    ")\n",
    "\n",
    "test_loader = DataLoader(\n",
    "    dataset=datasets.MNIST('./mnist_data', train=True, download=False, transform=transforms.Compose([\n",
    "        transforms.ToTensor(), transforms.Normalize(mean=(MEAN,), std=(STD,))\n",
    "    ])),\n",
    "    batch_size=BATCH_SIZE, shuffle=True, num_workers=1, pin_memory=True\n",
    ")"
   ]
  },
  {
   "cell_type": "code",
   "execution_count": null,
   "metadata": {},
   "outputs": [],
   "source": [
    "mnist_data"
   ]
  },
  {
   "cell_type": "markdown",
   "metadata": {},
   "source": [
    "# CNN Model"
   ]
  },
  {
   "cell_type": "code",
   "execution_count": null,
   "metadata": {},
   "outputs": [],
   "source": [
    "class CNNModel(nn.Module):\n",
    "    def __init__(self):\n",
    "        super(CNNModel, self).__init__()\n",
    "        self.conv1 = nn.Conv2d(1, 20, 5, 1)  # 28 * 28 -> (28 + 1 - 5), namely, 24 * 24\n",
    "        self.conv2 = nn.Conv2d(20, 50, 5, 1)  # 24 * 24 -> (24 + 1 - 5), namely, 20 * 20\n",
    "        self.fc1 = nn.Linear(4 * 4 * 50, 500)\n",
    "        self.fc2 = nn.Linear(500, 10)\n",
    "\n",
    "    def forward(self, x):  # x = [N, 1, 28, 28]\n",
    "        x = F.relu(self.conv1(x))  # [N, 20, 24, 24]\n",
    "        x = F.max_pool2d(x, 2, 2)  # [N, 20, 12, 12]\n",
    "        x = F.relu(self.conv2(x))  # [N, 50, 8, 8]\n",
    "        x = F.max_pool2d(x, 2, 2)  # [N, 50, 4, 4]\n",
    "        x = x.view(-1, 4 * 4 * 50)  # [N, 4 * 4 * 50]\n",
    "        x = F.relu(self.fc1(x))  # [N, 4 * 4 * 50] * [4 * 4 * 50, 500] = [N, 500]\n",
    "        x = self.fc2(x)  # [N, 500] * [500, 10] = [N, 10]\n",
    "        return F.log_softmax(x, dim=1)  # 带log的softmax分类，每张图片返回10个概率"
   ]
  },
  {
   "cell_type": "code",
   "execution_count": null,
   "metadata": {},
   "outputs": [],
   "source": [
    "cnn_model = CNNModel()\n",
    "if torch.cuda.is_available():\n",
    "    cnn_model = cnn_model.to(DEVICE)\n",
    "optimizer = optim.SGD(params=cnn_model.parameters(), lr=LEARNINGRATE, momentum=MOMENTUM)"
   ]
  },
  {
   "cell_type": "code",
   "execution_count": null,
   "metadata": {},
   "outputs": [],
   "source": [
    "def train(model, device, train_loader, optimizer, epoch):\n",
    "    model.train()\n",
    "    for idx, (data, target) in enumerate(train_loader):\n",
    "        data, target = data.to(device), target.to(device)\n",
    "        pred = model(data)\n",
    "        loss = F.nll_loss(pred, target)\n",
    "        optimizer.zero_grad()\n",
    "        loss.backward()\n",
    "        optimizer.step()\n",
    "        if idx % 100 == 0:\n",
    "            print(f'Train Epoch: {epoch}, Iteration: {idx}, Loss: {loss.item()}')"
   ]
  },
  {
   "cell_type": "code",
   "execution_count": null,
   "metadata": {},
   "outputs": [],
   "source": [
    "def test(model, device, test_loader):\n",
    "    model.eval()\n",
    "    total_loss = 0.\n",
    "    correct = 0.\n",
    "    with torch.no_grad():\n",
    "        for idx, (data, target) in enumerate(test_loader):\n",
    "            data, target = data.to(device), target.to(device)\n",
    "            output = model(data)  # batch_size * 10\n",
    "            total_loss += F.nll_loss(output, target, reduction='sum').item()\n",
    "            pred = output.argmax(dim=1)  # batch_size * 1\n",
    "            correct += pred.eq(target.view_as(pred)).sum().item()\n",
    "    total_loss /= len(test_loader.dataset)\n",
    "    acc = correct / len(test_loader.dataset) * 100.\n",
    "    print(f'Test loss: {total_loss}, Accuracy: {acc}')\n",
    "    model.train()\n",
    "    return total_loss"
   ]
  },
  {
   "cell_type": "code",
   "execution_count": null,
   "metadata": {},
   "outputs": [],
   "source": [
    "best_mnist_loss = float('inf')\n",
    "for epoch in range(NUM_EPOCHS):\n",
    "    train(model=cnn_model, device=DEVICE, train_loader=train_loader, optimizer=optimizer, epoch=epoch)\n",
    "    test(model=cnn_model, device=DEVICE, test_loader=test_loader)\n",
    "    total_loss = test(model=cnn_model, device=DEVICE, test_loader=test_loader)\n",
    "    if total_loss < best_mnist_loss:\n",
    "        torch.save(cnn_model.state_dict(), 'best_mnist_model.pth')"
   ]
  }
 ],
 "metadata": {
  "kernelspec": {
   "display_name": "Python [conda env:Torch10] *",
   "language": "python",
   "name": "conda-env-Torch10-py"
  },
  "language_info": {
   "codemirror_mode": {
    "name": "ipython",
    "version": 3
   },
   "file_extension": ".py",
   "mimetype": "text/x-python",
   "name": "python",
   "nbconvert_exporter": "python",
   "pygments_lexer": "ipython3",
   "version": "3.6.9"
  },
  "toc": {
   "base_numbering": 1,
   "nav_menu": {},
   "number_sections": true,
   "sideBar": true,
   "skip_h1_title": false,
   "title_cell": "Table of Contents",
   "title_sidebar": "Contents",
   "toc_cell": false,
   "toc_position": {},
   "toc_section_display": true,
   "toc_window_display": false
  },
  "varInspector": {
   "cols": {
    "lenName": 16,
    "lenType": 16,
    "lenVar": 40
   },
   "kernels_config": {
    "python": {
     "delete_cmd_postfix": "",
     "delete_cmd_prefix": "del ",
     "library": "var_list.py",
     "varRefreshCmd": "print(var_dic_list())"
    },
    "r": {
     "delete_cmd_postfix": ") ",
     "delete_cmd_prefix": "rm(",
     "library": "var_list.r",
     "varRefreshCmd": "cat(var_dic_list()) "
    }
   },
   "types_to_exclude": [
    "module",
    "function",
    "builtin_function_or_method",
    "instance",
    "_Feature"
   ],
   "window_display": false
  }
 },
 "nbformat": 4,
 "nbformat_minor": 4
}
