{
 "metadata": {
  "language_info": {
   "codemirror_mode": {
    "name": "ipython",
    "version": 3
   },
   "file_extension": ".py",
   "mimetype": "text/x-python",
   "name": "python",
   "nbconvert_exporter": "python",
   "pygments_lexer": "ipython3",
   "version": "3.6.9-final"
  },
  "orig_nbformat": 2,
  "kernelspec": {
   "name": "python_defaultSpec_1595492269143",
   "display_name": "Python 3.6.9 64-bit ('Torch10': conda)"
  }
 },
 "nbformat": 4,
 "nbformat_minor": 2,
 "cells": [
  {
   "cell_type": "code",
   "execution_count": 1,
   "metadata": {},
   "outputs": [],
   "source": [
    "import torch\n",
    "import torch.nn as nn\n",
    "import torch.optim as optim\n",
    "import numpy as np"
   ]
  },
  {
   "cell_type": "markdown",
   "metadata": {},
   "source": [
    "# FizzBuzz"
   ]
  },
  {
   "cell_type": "code",
   "execution_count": 2,
   "metadata": {},
   "outputs": [],
   "source": [
    "# 一般实现"
   ]
  },
  {
   "cell_type": "code",
   "execution_count": 3,
   "metadata": {
    "tags": []
   },
   "outputs": [
    {
     "output_type": "stream",
     "name": "stdout",
     "text": "1\n2\nfizz\n4\nbuzz\nfizz\n7\n8\nfizz\nbuzz\n11\nfizz\n13\n14\nfizzbuzz\n"
    }
   ],
   "source": [
    "# 编码\n",
    "def fizz_buzz_encode(i):\n",
    "    if i % 15 == 0:\n",
    "        return 3\n",
    "    elif i % 5 == 0:\n",
    "        return 2\n",
    "    elif i % 3 == 0:\n",
    "        return 1\n",
    "    else:\n",
    "        return 0\n",
    "\n",
    "# 解码\n",
    "def fizz_buzz_decode(i, prediction):\n",
    "    return [str(i), 'fizz', 'buzz', 'fizzbuzz'][prediction]\n",
    "\n",
    "# 帮助\n",
    "def helper(i):\n",
    "    print(fizz_buzz_decode(i=i, prediction=fizz_buzz_encode(i)))\n",
    "\n",
    "for i in range(1, 16):\n",
    "    helper(i)"
   ]
  },
  {
   "cell_type": "markdown",
   "metadata": {},
   "source": [
    "## 神经网络学会玩FizzBuzz"
   ]
  },
  {
   "cell_type": "code",
   "execution_count": 4,
   "metadata": {},
   "outputs": [],
   "source": [
    "# 我们首先定义模型的输入与输出（训练数据），这里把每一个数字转为二进制数据，模型容易学习"
   ]
  },
  {
   "cell_type": "code",
   "execution_count": 5,
   "metadata": {},
   "outputs": [],
   "source": [
    "# 二进制数字，即将训练数据二进制化"
   ]
  },
  {
   "cell_type": "code",
   "execution_count": 6,
   "metadata": {},
   "outputs": [],
   "source": [
    "NUM_DIGITS = 10  # 10个位数，所以最多只有1024个数字可以被表示出\n",
    "\n",
    "def binary_encode(i, num_digits):\n",
    "    return np.array([i >> d & 1 for d in range(num_digits)][::-1])\n",
    "\n",
    "trX = torch.Tensor([binary_encode(i=i, num_digits=NUM_DIGITS) for i in range(101, 2 ** NUM_DIGITS)])\n",
    "trY = torch.LongTensor([fizz_buzz_encode(i=i) for i in range(101, 2 ** NUM_DIGITS)])"
   ]
  },
  {
   "cell_type": "code",
   "execution_count": 7,
   "metadata": {},
   "outputs": [],
   "source": [
    "# 然后我们用PyTorch定义两层神经网络"
   ]
  },
  {
   "cell_type": "code",
   "execution_count": 8,
   "metadata": {},
   "outputs": [],
   "source": [
    "NUM_HIDDEN = 100\n",
    "model = nn.Sequential(\n",
    "    nn.Linear(in_features=NUM_DIGITS, out_features=NUM_HIDDEN),\n",
    "    nn.ReLU(),\n",
    "    nn.Linear(in_features=NUM_HIDDEN, out_features=4)  # 4 logits, after softmax, we will get a probability distribution\n",
    ")\n",
    "if torch.cuda.is_available():\n",
    "    model = model.cuda()"
   ]
  },
  {
   "cell_type": "code",
   "execution_count": 9,
   "metadata": {},
   "outputs": [],
   "source": [
    "# 为了让我们的模型学会FizzBuzz这个游戏，我们需要定义一个损失函数和一个优化算法。这个优化算法会不断优化（降低）损失函数，使得模型在该任务上取得尽可能低的损失值。由于FizzBuzz这个游戏本质上是一个分类问题，我们选用Cross Entropy Loss函数。优化函数我们选择SGD。"
   ]
  },
  {
   "cell_type": "code",
   "execution_count": 11,
   "metadata": {},
   "outputs": [],
   "source": [
    "loss_fn = nn.CrossEntropyLoss()\n",
    "optimizer = optim.Adam(params=model.parameters(), lr=0.01)"
   ]
  },
  {
   "cell_type": "code",
   "execution_count": 12,
   "metadata": {},
   "outputs": [],
   "source": [
    "# 模型训练"
   ]
  },
  {
   "cell_type": "code",
   "execution_count": 13,
   "metadata": {
    "tags": [
     "outputPrepend"
    ]
   },
   "outputs": [
    {
     "output_type": "stream",
     "name": "stdout",
     "text": "0.0019578970968723297\nEpoch：933; Loss：0.000933770788833499\nEpoch：934; Loss：0.0015001632273197174\nEpoch：934; Loss：0.0014131814241409302\nEpoch：934; Loss：0.002041023224592209\nEpoch：934; Loss：0.0010188296437263489\nEpoch：934; Loss：0.0025875698775053024\nEpoch：934; Loss：0.0017970912158489227\nEpoch：934; Loss：0.0019313544034957886\nEpoch：934; Loss：0.0009228918352164328\nEpoch：935; Loss：0.0014886707067489624\nEpoch：935; Loss：0.0014076456427574158\nEpoch：935; Loss：0.002028524875640869\nEpoch：935; Loss：0.0010108593851327896\nEpoch：935; Loss：0.0025868192315101624\nEpoch：935; Loss：0.0017909817397594452\nEpoch：935; Loss：0.0019331052899360657\nEpoch：935; Loss：0.000924339983612299\nEpoch：936; Loss：0.0014781318604946136\nEpoch：936; Loss：0.0014014467597007751\nEpoch：936; Loss：0.0020238086581230164\nEpoch：936; Loss：0.0010090656578540802\nEpoch：936; Loss：0.002567969262599945\nEpoch：936; Loss：0.0017879493534564972\nEpoch：936; Loss：0.0019254572689533234\nEpoch：936; Loss：0.0009161101188510656\nEpoch：937; Loss：0.001475464552640915\nEpoch：937; Loss：0.0013935081660747528\nEpoch：937; Loss：0.0020086579024791718\nEpoch：937; Loss：0.0010027773678302765\nEpoch：937; Loss：0.0025665629655122757\nEpoch：937; Loss：0.0017616748809814453\nEpoch：937; Loss：0.0019207336008548737\nEpoch：937; Loss：0.0009132138220593333\nEpoch：938; Loss：0.001468110829591751\nEpoch：938; Loss：0.0013899505138397217\nEpoch：938; Loss：0.0020059235394001007\nEpoch：938; Loss：0.000999758020043373\nEpoch：938; Loss：0.0025473684072494507\nEpoch：938; Loss：0.0017725378274917603\nEpoch：938; Loss：0.001904606819152832\nEpoch：938; Loss：0.0009074740810319781\nEpoch：939; Loss：0.0014645345509052277\nEpoch：939; Loss：0.00138084776699543\nEpoch：939; Loss：0.001995634287595749\nEpoch：939; Loss：0.0009943172335624695\nEpoch：939; Loss：0.0025458745658397675\nEpoch：939; Loss：0.0017491355538368225\nEpoch：939; Loss：0.0019047334790229797\nEpoch：939; Loss：0.0009080038871616125\nEpoch：940; Loss：0.001458924263715744\nEpoch：940; Loss：0.0013829395174980164\nEpoch：940; Loss：0.001987934112548828\nEpoch：940; Loss：0.000994209200143814\nEpoch：940; Loss：0.00251767598092556\nEpoch：940; Loss：0.0017607510089874268\nEpoch：940; Loss：0.0018911473453044891\nEpoch：940; Loss：0.0008991206414066255\nEpoch：941; Loss：0.0014485791325569153\nEpoch：941; Loss：0.0013724248856306076\nEpoch：941; Loss：0.0019945502281188965\nEpoch：941; Loss：0.0009882878512144089\nEpoch：941; Loss：0.0025128349661827087\nEpoch：941; Loss：0.0017394348978996277\nEpoch：941; Loss：0.0018823854625225067\nEpoch：941; Loss：0.0008994738454930484\nEpoch：942; Loss：0.001446697860956192\nEpoch：942; Loss：0.0013748649507761002\nEpoch：942; Loss：0.0019772276282310486\nEpoch：942; Loss：0.0009870287030935287\nEpoch：942; Loss：0.0024945754557847977\nEpoch：942; Loss：0.0017464570701122284\nEpoch：942; Loss：0.0018724612891674042\nEpoch：942; Loss：0.000893398595508188\nEpoch：943; Loss：0.0014393553137779236\nEpoch：943; Loss：0.0013637840747833252\nEpoch：943; Loss：0.001957777887582779\nEpoch：943; Loss：0.0009804610162973404\nEpoch：943; Loss：0.0024832170456647873\nEpoch：943; Loss：0.0017253272235393524\nEpoch：943; Loss：0.0018634609878063202\nEpoch：943; Loss：0.0008921093540266156\nEpoch：944; Loss：0.0014348700642585754\nEpoch：944; Loss：0.0013507157564163208\nEpoch：944; Loss：0.0019543245434761047\nEpoch：944; Loss：0.0009758230298757553\nEpoch：944; Loss：0.0024725645780563354\nEpoch：944; Loss：0.0017266832292079926\nEpoch：944; Loss：0.001857701689004898\nEpoch：944; Loss：0.0008835262851789594\nEpoch：945; Loss：0.0014269649982452393\nEpoch：945; Loss：0.0013538599014282227\nEpoch：945; Loss：0.001943536102771759\nEpoch：945; Loss：0.0009717978537082672\nEpoch：945; Loss：0.0024653486907482147\nEpoch：945; Loss：0.001705355942249298\nEpoch：945; Loss：0.0018497966229915619\nEpoch：945; Loss：0.0008817602065391839\nEpoch：946; Loss：0.0014235377311706543\nEpoch：946; Loss：0.0013472028076648712\nEpoch：946; Loss：0.0019387155771255493\nEpoch：946; Loss：0.0009690038859844208\nEpoch：946; Loss：0.0024567823857069016\nEpoch：946; Loss：0.0017082393169403076\nEpoch：946; Loss：0.0018408223986625671\nEpoch：946; Loss：0.0008774686721153557\nEpoch：947; Loss：0.0014165043830871582\nEpoch：947; Loss：0.0013396888971328735\nEpoch：947; Loss：0.0019284337759017944\nEpoch：947; Loss：0.0009665638208389282\nEpoch：947; Loss：0.0024482980370521545\nEpoch：947; Loss：0.001692403107881546\nEpoch：947; Loss：0.0018346942961215973\nEpoch：947; Loss：0.000875649624504149\nEpoch：948; Loss：0.0014085136353969574\nEpoch：948; Loss：0.0013344772160053253\nEpoch：948; Loss：0.0019253864884376526\nEpoch：948; Loss：0.0009595602750778198\nEpoch：948; Loss：0.0024381596595048904\nEpoch：948; Loss：0.0016915909945964813\nEpoch：948; Loss：0.001821611076593399\nEpoch：948; Loss：0.0008699099416844547\nEpoch：949; Loss：0.0014050677418708801\nEpoch：949; Loss：0.0013304539024829865\nEpoch：949; Loss：0.001911357045173645\nEpoch：949; Loss：0.000954795628786087\nEpoch：949; Loss：0.0024245474487543106\nEpoch：949; Loss：0.0016865059733390808\nEpoch：949; Loss：0.0018190555274486542\nEpoch：949; Loss：0.0008655301062390208\nEpoch：950; Loss：0.0013988427817821503\nEpoch：950; Loss：0.0013250075280666351\nEpoch：950; Loss：0.0019171461462974548\nEpoch：950; Loss：0.0009533539414405823\nEpoch：950; Loss：0.002412460744380951\nEpoch：950; Loss：0.0016861557960510254\nEpoch：950; Loss：0.0018071234226226807\nEpoch：950; Loss：0.0008584128227084875\nEpoch：951; Loss：0.001395728439092636\nEpoch：951; Loss：0.0013196226209402084\nEpoch：951; Loss：0.0018966011703014374\nEpoch：951; Loss：0.0009476281702518463\nEpoch：951; Loss：0.0024106502532958984\nEpoch：951; Loss：0.0016685724258422852\nEpoch：951; Loss：0.0018021315336227417\nEpoch：951; Loss：0.0008612032397650182\nEpoch：952; Loss：0.0013883598148822784\nEpoch：952; Loss：0.0013113413006067276\nEpoch：952; Loss：0.0018963813781738281\nEpoch：952; Loss：0.0009451843798160553\nEpoch：952; Loss：0.002390420064330101\nEpoch：952; Loss：0.001672554761171341\nEpoch：952; Loss：0.0017921477556228638\nEpoch：952; Loss：0.0008530793129466474\nEpoch：953; Loss：0.001383509486913681\nEpoch：953; Loss：0.0013081710785627365\nEpoch：953; Loss：0.0018786750733852386\nEpoch：953; Loss：0.0009421445429325104\nEpoch：953; Loss：0.0023805592209100723\nEpoch：953; Loss：0.0016586631536483765\nEpoch：953; Loss：0.0017874687910079956\nEpoch：953; Loss：0.0008502006530761719\nEpoch：954; Loss：0.0013771690428256989\nEpoch：954; Loss：0.0013103503733873367\nEpoch：954; Loss：0.0018765106797218323\nEpoch：954; Loss：0.0009382888674736023\nEpoch：954; Loss：0.0023719947785139084\nEpoch：954; Loss：0.0016613230109214783\nEpoch：954; Loss：0.0017713196575641632\nEpoch：954; Loss：0.0008450613822788\nEpoch：955; Loss：0.0013713911175727844\nEpoch：955; Loss：0.0012966599315404892\nEpoch：955; Loss：0.0018753595650196075\nEpoch：955; Loss：0.0009362287819385529\nEpoch：955; Loss：0.0023702364414930344\nEpoch：955; Loss：0.001627400517463684\nEpoch：955; Loss：0.0017760805785655975\nEpoch：955; Loss：0.0008486111764796078\nEpoch：956; Loss：0.0013679489493370056\nEpoch：956; Loss：0.0012985393404960632\nEpoch：956; Loss：0.0018611177802085876\nEpoch：956; Loss：0.0009305775165557861\nEpoch：956; Loss：0.0023484453558921814\nEpoch：956; Loss：0.001647714525461197\nEpoch：956; Loss：0.0017568692564964294\nEpoch：956; Loss：0.0008338115876540542\nEpoch：957; Loss：0.0013610348105430603\nEpoch：957; Loss：0.0012869499623775482\nEpoch：957; Loss：0.0018586069345474243\nEpoch：957; Loss：0.0009264536201953888\nEpoch：957; Loss：0.002342039719223976\nEpoch：957; Loss：0.0016275383532047272\nEpoch：957; Loss：0.0017574764788150787\nEpoch：957; Loss：0.0008307209936901927\nEpoch：958; Loss：0.0013568922877311707\nEpoch：958; Loss：0.0012882575392723083\nEpoch：958; Loss：0.0018447600305080414\nEpoch：958; Loss：0.0009253919124603271\nEpoch：958; Loss：0.002315351739525795\nEpoch：958; Loss：0.0016323849558830261\nEpoch：958; Loss：0.0017383210361003876\nEpoch：958; Loss：0.0008288489188998938\nEpoch：959; Loss：0.0013500005006790161\nEpoch：959; Loss：0.001275423914194107\nEpoch：959; Loss：0.0018433928489685059\nEpoch：959; Loss：0.0009200088679790497\nEpoch：959; Loss：0.0023248810321092606\nEpoch：959; Loss：0.0016108900308609009\nEpoch：959; Loss：0.0017372071743011475\nEpoch：959; Loss：0.0008243631455115974\nEpoch：960; Loss：0.0013414472341537476\nEpoch：960; Loss：0.0012789629399776459\nEpoch：960; Loss：0.0018299631774425507\nEpoch：960; Loss：0.0009161904454231262\nEpoch：960; Loss：0.002302231267094612\nEpoch：960; Loss：0.0016215667128562927\nEpoch：960; Loss：0.0017231553792953491\nEpoch：960; Loss：0.0008181642624549568\nEpoch：961; Loss：0.0013384222984313965\nEpoch：961; Loss：0.0012698676437139511\nEpoch：961; Loss：0.0018238388001918793\nEpoch：961; Loss：0.0009138137102127075\nEpoch：961; Loss：0.0023018289357423782\nEpoch：961; Loss：0.0015929266810417175\nEpoch：961; Loss：0.0017271824181079865\nEpoch：961; Loss：0.000820230576209724\nEpoch：962; Loss：0.001337345689535141\nEpoch：962; Loss：0.0012649931013584137\nEpoch：962; Loss：0.0018145516514778137\nEpoch：962; Loss：0.000906825065612793\nEpoch：962; Loss：0.0022798795253038406\nEpoch：962; Loss：0.0016167275607585907\nEpoch：962; Loss：0.0017136447131633759\nEpoch：962; Loss：0.0008097224636003375\nEpoch：963; Loss：0.0013284720480442047\nEpoch：963; Loss：0.0012582521885633469\nEpoch：963; Loss：0.0018145740032196045\nEpoch：963; Loss：0.0009046904742717743\nEpoch：963; Loss：0.002276577055454254\nEpoch：963; Loss：0.0015872679650783539\nEpoch：963; Loss：0.0017062872648239136\nEpoch：963; Loss：0.0008124068845063448\nEpoch：964; Loss：0.00132722407579422\nEpoch：964; Loss：0.001257721334695816\nEpoch：964; Loss：0.001795504242181778\nEpoch：964; Loss：0.0009015016257762909\nEpoch：964; Loss：0.0022640246897935867\nEpoch：964; Loss：0.0015795454382896423\nEpoch：964; Loss：0.0017002597451210022\nEpoch：964; Loss：0.000804971787147224\nEpoch：965; Loss：0.0013150796294212341\nEpoch：965; Loss：0.0012490525841712952\nEpoch：965; Loss：0.0017988160252571106\nEpoch：965; Loss：0.0009003952145576477\nEpoch：965; Loss：0.0022552087903022766\nEpoch：965; Loss：0.001580953598022461\nEpoch：965; Loss：0.0016941092908382416\nEpoch：965; Loss：0.0008036825456656516\nEpoch：966; Loss：0.0013117380440235138\nEpoch：966; Loss：0.0012417957186698914\nEpoch：966; Loss：0.0017874576151371002\nEpoch：966; Loss：0.0008960478007793427\nEpoch：966; Loss：0.002250663936138153\nEpoch：966; Loss：0.0015672184526920319\nEpoch：966; Loss：0.0016819722950458527\nEpoch：966; Loss：0.0007988964789547026\nEpoch：967; Loss：0.0013052038848400116\nEpoch：967; Loss：0.0012407787144184113\nEpoch：967; Loss：0.001779899001121521\nEpoch：967; Loss：0.000889953225851059\nEpoch：967; Loss：0.002231903374195099\nEpoch：967; Loss：0.0015726685523986816\nEpoch：967; Loss：0.001669313758611679\nEpoch：967; Loss：0.0007944813696667552\nEpoch：968; Loss：0.0013010427355766296\nEpoch：968; Loss：0.00123525969684124\nEpoch：968; Loss：0.0017692409455776215\nEpoch：968; Loss：0.0008859038352966309\nEpoch：968; Loss：0.0022295303642749786\nEpoch：968; Loss：0.0015403665602207184\nEpoch：968; Loss：0.0016763396561145782\nEpoch：968; Loss：0.0007945343386381865\nEpoch：969; Loss：0.0012983530759811401\nEpoch：969; Loss：0.0012330617755651474\nEpoch：969; Loss：0.001767423003911972\nEpoch：969; Loss：0.0008847303688526154\nEpoch：969; Loss：0.0022082850337028503\nEpoch：969; Loss：0.0015643797814846039\nEpoch：969; Loss：0.0016547776758670807\nEpoch：969; Loss：0.0007842734921723604\nEpoch：970; Loss：0.0012912154197692871\nEpoch：970; Loss：0.0012271441519260406\nEpoch：970; Loss：0.0017512962222099304\nEpoch：970; Loss：0.0008783675730228424\nEpoch：970; Loss：0.002196475863456726\nEpoch：970; Loss：0.0015486851334571838\nEpoch：970; Loss：0.00165461003780365\nEpoch：970; Loss：0.0007825427455827594\nEpoch：971; Loss：0.0012837424874305725\nEpoch：971; Loss：0.001219388097524643\nEpoch：971; Loss：0.0017520524561405182\nEpoch：971; Loss：0.0008779503405094147\nEpoch：971; Loss：0.0021833106875419617\nEpoch：971; Loss：0.0015416927635669708\nEpoch：971; Loss：0.0016468614339828491\nEpoch：971; Loss：0.0007823838386684656\nEpoch：972; Loss：0.0012799054384231567\nEpoch：972; Loss：0.0012128129601478577\nEpoch：972; Loss：0.0017403624951839447\nEpoch：972; Loss：0.000873129814863205\nEpoch：972; Loss：0.00218946672976017\nEpoch：972; Loss：0.0015279389917850494\nEpoch：972; Loss：0.0016344189643859863\nEpoch：972; Loss：0.0007754608523100615\nEpoch：973; Loss：0.001276213675737381\nEpoch：973; Loss：0.0012133195996284485\nEpoch：973; Loss：0.0017334334552288055\nEpoch：973; Loss：0.000872686505317688\nEpoch：973; Loss：0.002171464264392853\nEpoch：973; Loss：0.0015249811112880707\nEpoch：973; Loss：0.0016257315874099731\nEpoch：973; Loss：0.0007730766665190458\nEpoch：974; Loss：0.0012691020965576172\nEpoch：974; Loss：0.001207895576953888\nEpoch：974; Loss：0.001735236495733261\nEpoch：974; Loss：0.0008672401309013367\nEpoch：974; Loss：0.002163868397474289\nEpoch：974; Loss：0.0015228986740112305\nEpoch：974; Loss：0.0016232319176197052\nEpoch：974; Loss：0.0007695445092394948\nEpoch：975; Loss：0.0012680105865001678\nEpoch：975; Loss：0.001202758401632309\nEpoch：975; Loss：0.0017216801643371582\nEpoch：975; Loss：0.0008613802492618561\nEpoch：975; Loss：0.0021536294370889664\nEpoch：975; Loss：0.0015087798237800598\nEpoch：975; Loss：0.0016198568046092987\nEpoch：975; Loss：0.0007694209343753755\nEpoch：976; Loss：0.0012607350945472717\nEpoch：976; Loss：0.0011955909430980682\nEpoch：976; Loss：0.0017165802419185638\nEpoch：976; Loss：0.000858355313539505\nEpoch：976; Loss：0.0021439380943775177\nEpoch：976; Loss：0.0015173517167568207\nEpoch：976; Loss：0.0016058385372161865\nEpoch：976; Loss：0.0007597252260893583\nEpoch：977; Loss：0.0012578107416629791\nEpoch：977; Loss：0.001195484772324562\nEpoch：977; Loss：0.001705758273601532\nEpoch：977; Loss：0.0008565038442611694\nEpoch：977; Loss：0.0021358411759138107\nEpoch：977; Loss：0.0014914795756340027\nEpoch：977; Loss：0.0016134567558765411\nEpoch：977; Loss：0.0007579944794997573\nEpoch：978; Loss：0.0012510158121585846\nEpoch：978; Loss：0.001186547800898552\nEpoch：978; Loss：0.0017086416482925415\nEpoch：978; Loss：0.0008526928722858429\nEpoch：978; Loss：0.002118494361639023\nEpoch：978; Loss：0.0015056319534778595\nEpoch：978; Loss：0.0015939176082611084\nEpoch：978; Loss：0.0007519015343859792\nEpoch：979; Loss：0.0012436211109161377\nEpoch：979; Loss：0.0011816006153821945\nEpoch：979; Loss：0.0016913600265979767\nEpoch：979; Loss：0.000845596194267273\nEpoch：979; Loss：0.00210699625313282\nEpoch：979; Loss：0.0014967583119869232\nEpoch：979; Loss：0.0015865862369537354\nEpoch：979; Loss：0.0007550451555289328\nEpoch：980; Loss：0.0012415088713169098\nEpoch：980; Loss：0.001174233853816986\nEpoch：980; Loss：0.001691531389951706\nEpoch：980; Loss：0.0008449405431747437\nEpoch：980; Loss：0.0021002795547246933\nEpoch：980; Loss：0.0014832466840744019\nEpoch：980; Loss：0.001580994576215744\nEpoch：980; Loss：0.000747539394069463\nEpoch：981; Loss：0.0012339428067207336\nEpoch：981; Loss：0.0011797435581684113\nEpoch：981; Loss：0.001676660031080246\nEpoch：981; Loss：0.0008409805595874786\nEpoch：981; Loss：0.0020914655178785324\nEpoch：981; Loss：0.0014752037823200226\nEpoch：981; Loss：0.001576501876115799\nEpoch：981; Loss：0.0007422588532790542\nEpoch：982; Loss：0.001230783760547638\nEpoch：982; Loss：0.0011669881641864777\nEpoch：982; Loss：0.0016733035445213318\nEpoch：982; Loss：0.0008357316255569458\nEpoch：982; Loss：0.002080501988530159\nEpoch：982; Loss：0.0014610439538955688\nEpoch：982; Loss：0.001575525850057602\nEpoch：982; Loss：0.0007422412163577974\nEpoch：983; Loss：0.001225210726261139\nEpoch：983; Loss：0.0011640191078186035\nEpoch：983; Loss：0.0016671381890773773\nEpoch：983; Loss：0.0008353143930435181\nEpoch：983; Loss：0.0020731016993522644\nEpoch：983; Loss：0.0014774315059185028\nEpoch：983; Loss：0.0015559680759906769\nEpoch：983; Loss：0.0007379143498837948\nEpoch：984; Loss：0.001218106597661972\nEpoch：984; Loss：0.001163829118013382\nEpoch：984; Loss：0.0016568787395954132\nEpoch：984; Loss：0.0008291788399219513\nEpoch：984; Loss：0.0020726043730974197\nEpoch：984; Loss：0.00145760178565979\nEpoch：984; Loss：0.0015578828752040863\nEpoch：984; Loss：0.0007346294587478042\nEpoch：985; Loss：0.001214776188135147\nEpoch：985; Loss：0.0011554043740034103\nEpoch：985; Loss：0.0016523636877536774\nEpoch：985; Loss：0.0008317939937114716\nEpoch：985; Loss：0.0020530615001916885\nEpoch：985; Loss：0.0014481768012046814\nEpoch：985; Loss：0.001551564782857895\nEpoch：985; Loss：0.0007319980068132281\nEpoch：986; Loss：0.0012093931436538696\nEpoch：986; Loss：0.0011518467217683792\nEpoch：986; Loss：0.0016441494226455688\nEpoch：986; Loss：0.0008244477212429047\nEpoch：986; Loss：0.002046966925263405\nEpoch：986; Loss：0.001447189599275589\nEpoch：986; Loss：0.0015400126576423645\nEpoch：986; Loss：0.0007254812517203391\nEpoch：987; Loss：0.001205097883939743\nEpoch：987; Loss：0.0011454969644546509\nEpoch：987; Loss：0.001642521470785141\nEpoch：987; Loss：0.0008194819092750549\nEpoch：987; Loss：0.002032024785876274\nEpoch：987; Loss：0.0014420226216316223\nEpoch：987; Loss：0.0015376582741737366\nEpoch：987; Loss：0.0007255871896632016\nEpoch：988; Loss：0.0012039132416248322\nEpoch：988; Loss：0.0011414103209972382\nEpoch：988; Loss：0.0016282722353935242\nEpoch：988; Loss：0.0008174143731594086\nEpoch：988; Loss：0.002020394429564476\nEpoch：988; Loss：0.001435801386833191\nEpoch：988; Loss：0.0015299618244171143\nEpoch：988; Loss：0.0007196355727501214\nEpoch：989; Loss：0.0011954642832279205\nEpoch：989; Loss：0.0011367090046405792\nEpoch：989; Loss：0.001623827964067459\nEpoch：989; Loss：0.0008135288953781128\nEpoch：989; Loss：0.002018311992287636\nEpoch：989; Loss：0.0014274753630161285\nEpoch：989; Loss：0.0015179775655269623\nEpoch：989; Loss：0.0007168452139012516\nEpoch：990; Loss：0.0011901408433914185\nEpoch：990; Loss：0.0011352114379405975\nEpoch：990; Loss：0.0016127489507198334\nEpoch：990; Loss：0.0008077993988990784\nEpoch：990; Loss：0.002013223245739937\nEpoch：990; Loss：0.0014311522245407104\nEpoch：990; Loss：0.0015099383890628815\nEpoch：990; Loss：0.0007136309868656099\nEpoch：991; Loss：0.0011852569878101349\nEpoch：991; Loss：0.0011267773807048798\nEpoch：991; Loss：0.0016206428408622742\nEpoch：991; Loss：0.0008075349032878876\nEpoch：991; Loss：0.0020026639103889465\nEpoch：991; Loss：0.0014131292700767517\nEpoch：991; Loss：0.0015073642134666443\nEpoch：991; Loss：0.0007138605578802526\nEpoch：992; Loss：0.0011850520968437195\nEpoch：992; Loss：0.0011263135820627213\nEpoch：992; Loss：0.0016053132712841034\nEpoch：992; Loss：0.0008016414940357208\nEpoch：992; Loss：0.0019925832748413086\nEpoch：992; Loss：0.0014114677906036377\nEpoch：992; Loss：0.0015008002519607544\nEpoch：992; Loss：0.0007054894231259823\nEpoch：993; Loss：0.001176498830318451\nEpoch：993; Loss：0.0011223219335079193\nEpoch：993; Loss：0.001597568392753601\nEpoch：993; Loss：0.0008004605770111084\nEpoch：993; Loss：0.0019735898822546005\nEpoch：993; Loss：0.0014138557016849518\nEpoch：993; Loss：0.0014953948557376862\nEpoch：993; Loss：0.0007032111752778292\nEpoch：994; Loss：0.0011726170778274536\nEpoch：994; Loss：0.0011120494455099106\nEpoch：994; Loss：0.001589599996805191\nEpoch：994; Loss：0.0007938481867313385\nEpoch：994; Loss：0.0019744373857975006\nEpoch：994; Loss：0.001399364322423935\nEpoch：994; Loss：0.0014881491661071777\nEpoch：994; Loss：0.0007040412165224552\nEpoch：995; Loss：0.0011673085391521454\nEpoch：995; Loss：0.001114092767238617\nEpoch：995; Loss：0.0015880651772022247\nEpoch：995; Loss：0.0007955543696880341\nEpoch：995; Loss：0.001966899260878563\nEpoch：995; Loss：0.0013968870043754578\nEpoch：995; Loss：0.001478593796491623\nEpoch：995; Loss：0.0006967473891563714\nEpoch：996; Loss：0.0011617057025432587\nEpoch：996; Loss：0.001103907823562622\nEpoch：996; Loss：0.0015837512910366058\nEpoch：996; Loss：0.0007877983152866364\nEpoch：996; Loss：0.001963512971997261\nEpoch：996; Loss：0.0013799630105495453\nEpoch：996; Loss：0.0014805570244789124\nEpoch：996; Loss：0.0006980012985877693\nEpoch：997; Loss：0.001157570630311966\nEpoch：997; Loss：0.0011086910963058472\nEpoch：997; Loss：0.0015704184770584106\nEpoch：997; Loss：0.000788126140832901\nEpoch：997; Loss：0.0019508302211761475\nEpoch：997; Loss：0.0013925842940807343\nEpoch：997; Loss：0.0014743059873580933\nEpoch：997; Loss：0.0006864689057692885\nEpoch：998; Loss：0.001156345009803772\nEpoch：998; Loss：0.0010968465358018875\nEpoch：998; Loss：0.0015658363699913025\nEpoch：998; Loss：0.000780005007982254\nEpoch：998; Loss：0.00193890742957592\nEpoch：998; Loss：0.0013726800680160522\nEpoch：998; Loss：0.0014695227146148682\nEpoch：998; Loss：0.0006886411574669182\nEpoch：999; Loss：0.0011516399681568146\nEpoch：999; Loss：0.0010928940027952194\nEpoch：999; Loss：0.0015545114874839783\nEpoch：999; Loss：0.0007805526256561279\nEpoch：999; Loss：0.001927010715007782\nEpoch：999; Loss：0.0013724081218242645\nEpoch：999; Loss：0.0014575310051441193\nEpoch：999; Loss：0.0006843672599643469\n"
    }
   ],
   "source": [
    "BATCH_SIZE = 128\n",
    "for epoch in range(1000):\n",
    "    for start in range(0, len(trX), BATCH_SIZE):  # 每BATCH_SIZE个数据截取一次数据\n",
    "        end = start + BATCH_SIZE\n",
    "        batchX = trX[start: end]\n",
    "        batchY = trY[start: end]\n",
    "\n",
    "        if torch.cuda.is_available():\n",
    "            batchX = batchX.cuda()\n",
    "            batchY = batchY.cuda()\n",
    "        \n",
    "        y_pred = model(batchX)\n",
    "        loss = loss_fn(y_pred, batchY)\n",
    "\n",
    "        print(f'Epoch：{epoch}; Loss：{loss.item()}')\n",
    "\n",
    "        # 优化三部曲：1.清空之前的梯度；2.loss.backward()；3.一步更新optimizer.step()\n",
    "        optimizer.zero_grad()\n",
    "        loss.backward()\n",
    "        optimizer.step()"
   ]
  },
  {
   "cell_type": "code",
   "execution_count": 58,
   "metadata": {},
   "outputs": [],
   "source": [
    "# 最后用训练好的模型尝试在1到100这些数字上玩FizzBuzz游戏"
   ]
  },
  {
   "cell_type": "code",
   "execution_count": 14,
   "metadata": {},
   "outputs": [],
   "source": [
    "testX = torch.Tensor([binary_encode(i, NUM_DIGITS) for i in range(1, 101)])\n",
    "if torch.cuda.is_available():\n",
    "    testX = testX.cuda()\n",
    "# 测试阶段参数无需梯度\n",
    "with torch.no_grad():\n",
    "    testY = model(testX)  # testY.shape=torch.Size([100, 4])\n",
    "\n",
    "# predicts = zip(range(1, 101), list(testY.max))"
   ]
  },
  {
   "cell_type": "code",
   "execution_count": 16,
   "metadata": {},
   "outputs": [
    {
     "output_type": "execute_result",
     "data": {
      "text/plain": "torch.Size([100, 4])"
     },
     "metadata": {},
     "execution_count": 16
    }
   ],
   "source": [
    "testY.shape"
   ]
  },
  {
   "cell_type": "code",
   "execution_count": 43,
   "metadata": {
    "tags": []
   },
   "outputs": [
    {
     "output_type": "stream",
     "name": "stdout",
     "text": "['1', 'buzz', 'fizz', '4', 'buzz', 'fizz', '7', '8', 'fizz', '10', '11', '12', '13', '14', 'fizzbuzz', '16', '17', 'fizz', '19', 'buzz', 'fizz', '22', '23', 'fizz', 'buzz', '26', 'fizz', '28', '29', 'fizzbuzz', '31', 'buzz', 'fizz', 'buzz', 'buzz', 'fizz', '37', 'buzz', 'fizz', 'buzz', '41', 'fizz', '43', '44', 'fizzbuzz', '46', '47', 'fizz', '49', 'buzz', 'fizz', '52', 'fizz', 'fizz', 'buzz', '56', 'fizz', '58', '59', 'fizzbuzz', '61', '62', 'fizz', '64', '65', '66', '67', 'fizz', 'fizz', 'buzz', '71', '72', '73', '74', 'fizzbuzz', '76', '77', 'fizz', '79', 'buzz', 'fizz', '82', '83', 'buzz', 'fizz', '86', 'fizz', '88', '89', 'fizzbuzz', '91', '92', 'fizz', '94', 'buzz', 'fizz', '97', 'buzz', 'fizz', 'fizz']\n"
    }
   ],
   "source": [
    "predictions = zip(range(1, 101), testY.max(1)[1].cpu().data.tolist())\n",
    "print([fizz_buzz_decode(i, x) for i, x in predictions])"
   ]
  },
  {
   "cell_type": "code",
   "execution_count": null,
   "metadata": {},
   "outputs": [],
   "source": []
  }
 ]
}